{
 "cells": [
  {
   "cell_type": "markdown",
   "id": "5e18f37b",
   "metadata": {},
   "source": [
    "## Practice Questions"
   ]
  },
  {
   "cell_type": "markdown",
   "id": "7a474475",
   "metadata": {},
   "source": [
    "### Take values of length and breadth of a rectangle from user and check if it is square or not."
   ]
  },
  {
   "cell_type": "code",
   "execution_count": 4,
   "id": "082c7f11",
   "metadata": {},
   "outputs": [
    {
     "name": "stdout",
     "output_type": "stream",
     "text": [
      "Enter the length: 14\n",
      "Enter the width: 14\n",
      "The rectangle is square.\n"
     ]
    }
   ],
   "source": [
    "length=int(input(\"Enter the length: \"))\n",
    "width=int(input(\"Enter the width: \"))\n",
    "if length==width:\n",
    "    print(\"The rectangle is square.\")\n",
    "else:\n",
    "    print(\"The rectangle is not square.\")"
   ]
  },
  {
   "cell_type": "code",
   "execution_count": 5,
   "id": "d130127a",
   "metadata": {},
   "outputs": [
    {
     "name": "stdout",
     "output_type": "stream",
     "text": [
      "Enter the length: 9\n",
      "Enter the width: 7\n",
      "The rectangle is not square.\n"
     ]
    }
   ],
   "source": [
    "length=int(input(\"Enter the length: \"))\n",
    "width=int(input(\"Enter the width: \"))\n",
    "if length==width:\n",
    "    print(\"The rectangle is square.\")\n",
    "else:\n",
    "    print(\"The rectangle is not square.\")"
   ]
  },
  {
   "cell_type": "markdown",
   "id": "3b4d2583",
   "metadata": {},
   "source": [
    "### Take two int values from user and print greatest among them"
   ]
  },
  {
   "cell_type": "code",
   "execution_count": 22,
   "id": "b3bcc638",
   "metadata": {},
   "outputs": [
    {
     "name": "stdout",
     "output_type": "stream",
     "text": [
      "Enter a number: 1\n",
      "Enter another number: 1\n",
      "1 Both numbers have the same value.\n"
     ]
    }
   ],
   "source": [
    "first_number=int(input(\"Enter a number: \"))\n",
    "second_number=int(input(\"Enter another number: \"))\n",
    "if first_number>second_number:\n",
    "    print(first_number, \"is the greater value.\")\n",
    "elif second_number>first_number:\n",
    "    print(second_number, \"is the greater value.\")\n",
    "else:\n",
    "    print(first_number, \"Both numbers have the same value.\")"
   ]
  },
  {
   "cell_type": "code",
   "execution_count": 11,
   "id": "f58b1b6b",
   "metadata": {},
   "outputs": [
    {
     "name": "stdout",
     "output_type": "stream",
     "text": [
      "Enter a number: 51\n",
      "Enter another number: 13\n",
      "51\n"
     ]
    }
   ],
   "source": [
    "first_number=int(input(\"Enter a number: \"))\n",
    "second_number=int(input(\"Enter another number: \"))\n",
    "if first_number>second_number:\n",
    "    print(first_number)\n",
    "else:\n",
    "    print(second_number)"
   ]
  },
  {
   "cell_type": "markdown",
   "id": "33e28b58",
   "metadata": {},
   "source": [
    "### Take input of age of 3 people by user and determine oldest among them."
   ]
  },
  {
   "cell_type": "code",
   "execution_count": 25,
   "id": "722f19c8",
   "metadata": {},
   "outputs": [
    {
     "name": "stdout",
     "output_type": "stream",
     "text": [
      "How old are you? 41\n",
      "How old are you? 27\n",
      "How old are you? 39\n",
      "User 1 is the oldest.\n"
     ]
    }
   ],
   "source": [
    "age1=int(input(\"How old are you? \"))\n",
    "age2=int(input(\"How old are you? \"))\n",
    "age3=int(input(\"How old are you? \"))\n",
    "if age1>age2 and age1>age3:\n",
    "    print(\"User 1 is the oldest.\")\n",
    "elif age2>age3:\n",
    "    print(\"User 2 is the oldest.\")\n",
    "else:\n",
    "    print(\"User 3 is the oldest.\")"
   ]
  },
  {
   "cell_type": "markdown",
   "id": "99f8c6e7",
   "metadata": {},
   "source": [
    "### A student will not be allowed to sit in exam if his/her attendence is less than 75%.\n",
    "- Take following input from user\n",
    "    - Number of classes held\n",
    "    - Number of classes attended.\n",
    "    - And print percentage of class attended\n",
    "- Is student is allowed to sit in exam or not."
   ]
  },
  {
   "cell_type": "code",
   "execution_count": 20,
   "id": "3437b3f6",
   "metadata": {},
   "outputs": [
    {
     "name": "stdout",
     "output_type": "stream",
     "text": [
      "How many classes were held? 20\n",
      "How many classes did you attend? 14\n",
      "Your attendance percentage is:  70.0 %.\n",
      "You are not allowed to sit for this exam. Your attendance rate is too low.\n"
     ]
    }
   ],
   "source": [
    "classes_held=int(input(\"How many classes were held? \"))\n",
    "classes_attended=int(input(\"How many classes did you attend? \"))\n",
    "attend_percent=classes_attended/classes_held*100\n",
    "print(\"Your attendance percentage is: \",attend_percent,\"%.\")\n",
    "if attend_percent<75:\n",
    "    print(\"You are not allowed to sit for this exam. Your attendance rate is too low.\")\n",
    "else:\n",
    "    print(\"You are allowed to sit for this exam. Good luck!\")"
   ]
  },
  {
   "cell_type": "code",
   "execution_count": 18,
   "id": "78fe80ef",
   "metadata": {},
   "outputs": [
    {
     "name": "stdout",
     "output_type": "stream",
     "text": [
      "How many classes were held? 20\n",
      "How many classes did you attend? 15\n",
      "Your attendance percentage is:  75.0 %.\n",
      "You are allowed to sit for this exam. Good luck!\n"
     ]
    }
   ],
   "source": [
    "classes_held=int(input(\"How many classes were held? \"))\n",
    "classes_attended=int(input(\"How many classes did you attend? \"))\n",
    "attend_percent=classes_attended/classes_held*100\n",
    "print(\"Your attendance percentage is: \",attend_percent,\"%.\")\n",
    "if attend_percent<75:\n",
    "    print(\"You are not allowed to sit for this exam. Your attendance rate is too low.\")\n",
    "else:\n",
    "    print(\"You are allowed to sit for this exam. Good luck!\")"
   ]
  },
  {
   "cell_type": "code",
   "execution_count": 19,
   "id": "f7d0c7e0",
   "metadata": {},
   "outputs": [
    {
     "name": "stdout",
     "output_type": "stream",
     "text": [
      "How many classes were held? 20\n",
      "How many classes did you attend? 20\n",
      "Your attendance percentage is:  100.0 %.\n",
      "You are allowed to sit for this exam. Good luck!\n"
     ]
    }
   ],
   "source": [
    "classes_held=int(input(\"How many classes were held? \"))\n",
    "classes_attended=int(input(\"How many classes did you attend? \"))\n",
    "attend_percent=classes_attended/classes_held*100\n",
    "print(\"Your attendance percentage is: \",attend_percent,\"%.\")\n",
    "if attend_percent<75:\n",
    "    print(\"You are not allowed to sit for this exam. Your attendance rate is too low.\")\n",
    "else:\n",
    "    print(\"You are allowed to sit for this exam. Good luck!\")"
   ]
  },
  {
   "cell_type": "markdown",
   "id": "a8b79aba",
   "metadata": {},
   "source": [
    "### Write a program that accepts the lengths of three sides of a triangle as inputs. The program output should indicate whether or not the triangle is a right triangle (Recall from the Pythagorean Theorem that in a right triangle, the square of one side equals the sum of the squares of the other two sides"
   ]
  },
  {
   "cell_type": "code",
   "execution_count": 22,
   "id": "aee252eb",
   "metadata": {},
   "outputs": [
    {
     "name": "stdout",
     "output_type": "stream",
     "text": [
      "Length of side 1: 5\n",
      "Length of side 2: 3\n",
      "Length of side 3: 4\n",
      "The triangle is a right triangle.\n"
     ]
    }
   ],
   "source": [
    "side1=int(input(\"Length of side 1: \"))\n",
    "side2=int(input(\"Length of side 2: \"))\n",
    "side3=int(input(\"Length of side 3: \"))\n",
    "if side1==side2==side3:\n",
    "    print(\"The triangle is equillateral.\")\n",
    "elif side1^2==side2^2+side3^2:\n",
    "    print(\"The triangle is a right triangle.\")\n",
    "else:\n",
    "    print(\"The triangle is not a right triangle or an equillateral triangle.\")"
   ]
  },
  {
   "cell_type": "code",
   "execution_count": 23,
   "id": "b9662f2c",
   "metadata": {},
   "outputs": [
    {
     "name": "stdout",
     "output_type": "stream",
     "text": [
      "Length of side 1: 5\n",
      "Length of side 2: 5\n",
      "Length of side 3: 5\n",
      "The triangle is equillateral.\n"
     ]
    }
   ],
   "source": [
    "side1=int(input(\"Length of side 1: \"))\n",
    "side2=int(input(\"Length of side 2: \"))\n",
    "side3=int(input(\"Length of side 3: \"))\n",
    "if side1==side2==side3:\n",
    "    print(\"The triangle is equillateral.\")\n",
    "elif side1^2==side2^2+side3^2:\n",
    "    print(\"The triangle is a right triangle.\")\n",
    "else:\n",
    "    print(\"The triangle is not a right triangle or an equillateral triangle.\")"
   ]
  },
  {
   "cell_type": "code",
   "execution_count": 24,
   "id": "6e5ebcde",
   "metadata": {},
   "outputs": [
    {
     "name": "stdout",
     "output_type": "stream",
     "text": [
      "Length of side 1: 1\n",
      "Length of side 2: 2\n",
      "Length of side 3: 3\n",
      "The triangle is not a right triangle or an equillateral triangle.\n"
     ]
    }
   ],
   "source": [
    "side1=int(input(\"Length of side 1: \"))\n",
    "side2=int(input(\"Length of side 2: \"))\n",
    "side3=int(input(\"Length of side 3: \"))\n",
    "if side1==side2==side3:\n",
    "    print(\"The triangle is equillateral.\")\n",
    "elif side1^2==side2^2+side3^2:\n",
    "    print(\"The triangle is a right triangle.\")\n",
    "else:\n",
    "    print(\"The triangle is not a right triangle or an equillateral triangle.\")"
   ]
  },
  {
   "attachments": {
    "image-2.png": {
     "image/png": "[encoded data removed]"
    }
   },
   "cell_type": "markdown",
   "id": "f03d765e",
   "metadata": {},
   "source": [
    "![image-2.png](attachment:image-2.png)\n",
    "- 0\n",
    "- 4\n",
    "- 2\n",
    "- 3\n",
    "\n",
    "**The answer is 3.**\n"
   ]
  },
  {
   "cell_type": "code",
   "execution_count": 25,
   "id": "4d2bf483",
   "metadata": {},
   "outputs": [
    {
     "name": "stdout",
     "output_type": "stream",
     "text": [
      "3\n"
     ]
    }
   ],
   "source": [
    "x=0\n",
    "a=5\n",
    "b=5\n",
    "if a>0:\n",
    "    if b<0:\n",
    "        x=x+5\n",
    "    elif a>5:\n",
    "        x=x+4\n",
    "    else:\n",
    "        x=x+3\n",
    "else:\n",
    "    x=x+2\n",
    "print(x)"
   ]
  },
  {
   "attachments": {
    "image.png": {
     "image/png": "[encoded data removed]"
    }
   },
   "cell_type": "markdown",
   "id": "f739f739",
   "metadata": {},
   "source": [
    "![image.png](attachment:image.png)\n",
    "- 2\n",
    "- 0\n",
    "- 3\n",
    "- 4\n",
    "\n",
    "**The answer is 2.**"
   ]
  },
  {
   "cell_type": "code",
   "execution_count": 28,
   "id": "b0bbf51c",
   "metadata": {},
   "outputs": [
    {
     "name": "stdout",
     "output_type": "stream",
     "text": [
      "2\n"
     ]
    }
   ],
   "source": [
    "x=0\n",
    "a=0\n",
    "b=-5\n",
    "if a>0:\n",
    "    if b<0:\n",
    "        x=x+5\n",
    "    elif a>5:\n",
    "        x=x+4\n",
    "    else:\n",
    "        x=x+3\n",
    "else:\n",
    "    x=x+2\n",
    "print(x)"
   ]
  }
 ],
 "metadata": {
  "kernelspec": {
   "display_name": "Python 3 (ipykernel)",
   "language": "python",
   "name": "python3"
  },
  "language_info": {
   "codemirror_mode": {
    "name": "ipython",
    "version": 3
   },
   "file_extension": ".py",
   "mimetype": "text/x-python",
   "name": "python",
   "nbconvert_exporter": "python",
   "pygments_lexer": "ipython3",
   "version": "3.9.12"
  }
 },
 "nbformat": 4,
 "nbformat_minor": 5
}
